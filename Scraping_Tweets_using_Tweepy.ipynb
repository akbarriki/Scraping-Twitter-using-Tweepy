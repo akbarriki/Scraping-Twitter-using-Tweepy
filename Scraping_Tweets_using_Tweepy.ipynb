{
  "nbformat": 4,
  "nbformat_minor": 0,
  "metadata": {
    "colab": {
      "provenance": [],
      "authorship_tag": "ABX9TyPXJpULmcB1vwKVj1nUZOhr",
      "include_colab_link": true
    },
    "kernelspec": {
      "name": "python3",
      "display_name": "Python 3"
    },
    "language_info": {
      "name": "python"
    }
  },
  "cells": [
    {
      "cell_type": "markdown",
      "metadata": {
        "id": "view-in-github",
        "colab_type": "text"
      },
      "source": [
        "<a href=\"https://colab.research.google.com/github/akbarriki/Scraping-Twitter-using-Tweepy/blob/main/Scraping_Tweets_using_Tweepy.ipynb\" target=\"_parent\"><img src=\"https://colab.research.google.com/assets/colab-badge.svg\" alt=\"Open In Colab\"/></a>"
      ]
    },
    {
      "cell_type": "code",
      "execution_count": null,
      "metadata": {
        "id": "YMIIsHq_Q_MP"
      },
      "outputs": [],
      "source": [
        "import tweepy\n",
        "from datetime import datetime\n",
        "from tqdm import tqdm\n",
        "\n",
        "# Authentication details. To  obtain these visit dev.twitter.com\n",
        "consumer_key = \"YOUR_API_KEY\"\n",
        "consumer_secret = \"YOUR_API_SECRET_KEY\"\n",
        "access_token = \"YOUR_ACCESS_TOKEN\"\n",
        "access_token_secret = \"YOUR_ACCESS_TOKEN_REVIEW\"\n",
        "\n",
        "# Authenticate\n",
        "auth = tweepy.OAuthHandler(consumer_key, consumer_secret)\n",
        "auth.set_access_token(access_token, access_token_secret)\n",
        "\n",
        "# Create an API object\n",
        "api = tweepy.API(auth)\n",
        "\n",
        "# Define the username of the account you want to scrape tweets from\n",
        "username = 'USERNAME'\n",
        "userid = 'ID_OF_USERNAME'\n",
        "\n",
        "# Get the number of user's total tweets and number of tweets to be collected\n",
        "total_user_tweets = api.get_user(userid).statuses_count\n",
        "total_collected_user_tweets = 0\n",
        "num_tweets_to_collect = total_user_tweets - total_collected_user_tweets\n",
        "print(\"Preparing - Number of Tweets to be collected: \", str(num_tweets_to_collect))\n",
        "\n",
        "# get user's tweets\n",
        "print(datetime.now(), \"  --> Get tweets\")\n",
        "# tweets = api.user_timeline(screen_name=username, count=num_tweets_to_collect)\n",
        "tweets = []\n",
        "for i, pages in enumerate(tweepy.Cursor(api.user_timeline, id=userid, count=200).pages()):\n",
        "  tweets += pages\n",
        "print(datetime.now(), \"  --> Tweets collected (\",str(i),\" page(s))\")\n",
        "\n",
        "# store the tweets into a list\n",
        "print()\n",
        "print(\"Storing tweets to tweet_list\")\n",
        "tweet_list = []\n",
        "for _, tweet in enumerate(tqdm(tweets)):\n",
        "    tweet_list.append(tweet._json)\n",
        "print(\"done.\")\n",
        "print()"
      ]
    },
    {
      "cell_type": "markdown",
      "source": [
        "#### Sanity Check"
      ],
      "metadata": {
        "id": "z6LqwPOrR4Qs"
      }
    },
    {
      "cell_type": "code",
      "source": [
        "# number of tweets collected\n",
        "len(tweet_list)"
      ],
      "metadata": {
        "id": "DE5t7z9dRwAx"
      },
      "execution_count": null,
      "outputs": []
    },
    {
      "cell_type": "code",
      "source": [
        "# get the created time of last 10 tweets\n",
        "[tweet['created_at'] for tweet in tweet_list[-10:]]"
      ],
      "metadata": {
        "id": "TjT9am3PRyE3"
      },
      "execution_count": null,
      "outputs": []
    },
    {
      "cell_type": "markdown",
      "source": [
        "#### Export to Excel using Pandas `pd.to_excel()`"
      ],
      "metadata": {
        "id": "T_1zfjS-SBkO"
      }
    },
    {
      "cell_type": "code",
      "source": [
        "import pandas as pd\n",
        "\n",
        "df_tweets = pd.DataFrame(tweet_list)[['created_at','id_str','text','truncated', 'retweet_count', 'favorite_count','possibly_sensitive']]\n",
        "df_tweets.head()"
      ],
      "metadata": {
        "id": "XCJS1qAQR1Zh"
      },
      "execution_count": null,
      "outputs": []
    },
    {
      "cell_type": "code",
      "source": [
        "df_tweets.to_excel(\"tweets.xlsx\", index=False)"
      ],
      "metadata": {
        "id": "c4YEe-H8R25G"
      },
      "execution_count": null,
      "outputs": []
    }
  ]
}